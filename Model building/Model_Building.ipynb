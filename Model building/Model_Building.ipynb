{
  "nbformat": 4,
  "nbformat_minor": 0,
  "metadata": {
    "colab": {
      "provenance": [],
      "collapsed_sections": []
    },
    "kernelspec": {
      "name": "python3",
      "display_name": "Python 3"
    },
    "language_info": {
      "name": "python"
    }
  },
  "cells": [
    {
      "cell_type": "markdown",
      "source": [
        "Import the ImageDataGenerator library"
      ],
      "metadata": {
        "id": "QXf4YbJSBan_"
      }
    },
    {
      "cell_type": "code",
      "execution_count": null,
      "metadata": {
        "id": "rs3ImqNaBR8F"
      },
      "outputs": [],
      "source": [
        "from keras.preprocessing.image import ImageDataGenerator"
      ]
    },
    {
      "cell_type": "markdown",
      "source": [
        "Configure ImageDataGenerator Class"
      ],
      "metadata": {
        "id": "HO6Qj6OJB4Aj"
      }
    },
    {
      "cell_type": "code",
      "source": [
        "train_datagen = ImageDataGenerator(rescale=1./255,shear_range=0.2,zoom_range=0.2,\n",
        "                                   horizontal_flip=True)\n",
        "test_datagen=ImageDataGenerator(rescale=1./255)"
      ],
      "metadata": {
        "id": "jXMsh-e5Bsu8"
      },
      "execution_count": null,
      "outputs": []
    },
    {
      "cell_type": "markdown",
      "source": [
        "Apply Image DataGenerator Functionality To Trainset And Testset"
      ],
      "metadata": {
        "id": "ZKscK_RbB_xR"
      }
    },
    {
      "cell_type": "code",
      "source": [
        "x_train = train_datagen.flow_from_directory(\n",
        "    r'/content/drive/MyDrive/Project/Dataset/TRAIN_SET',\n",
        "    target_size=(64, 64),batch_size=5,color_mode='rgb',class_mode='sparse')\n",
        "x_test = test_datagen.flow_from_directory(\n",
        "    r'/content/drive/MyDrive/Project/Dataset/TRAIN_SET',\n",
        "    target_size=(64, 64),batch_size=5,color_mode='rgb',class_mode='sparse')"
      ],
      "metadata": {
        "colab": {
          "base_uri": "https://localhost:8080/"
        },
        "id": "75Tq2NKMB85V",
        "outputId": "4b7cde24-25f2-488b-bcfe-ad428d001cbf"
      },
      "execution_count": null,
      "outputs": [
        {
          "output_type": "stream",
          "name": "stdout",
          "text": [
            "Found 4118 images belonging to 5 classes.\n",
            "Found 4118 images belonging to 5 classes.\n"
          ]
        }
      ]
    },
    {
      "cell_type": "code",
      "source": [
        "print(x_train.class_indices)"
      ],
      "metadata": {
        "colab": {
          "base_uri": "https://localhost:8080/"
        },
        "id": "5RzH-J2dClII",
        "outputId": "605005bf-905a-4707-f0d4-1533bfecb0a5"
      },
      "execution_count": null,
      "outputs": [
        {
          "output_type": "stream",
          "name": "stdout",
          "text": [
            "{'APPLES': 0, 'BANANA': 1, 'ORANGE': 2, 'PINEAPPLE': 3, 'WATERMELON': 4}\n"
          ]
        }
      ]
    },
    {
      "cell_type": "code",
      "source": [
        "print(x_test.class_indices)"
      ],
      "metadata": {
        "colab": {
          "base_uri": "https://localhost:8080/"
        },
        "id": "qphu3_9aCptV",
        "outputId": "4a74e682-b7e0-4f02-b303-fa5799ac99e0"
      },
      "execution_count": null,
      "outputs": [
        {
          "output_type": "stream",
          "name": "stdout",
          "text": [
            "{'APPLES': 0, 'BANANA': 1, 'ORANGE': 2, 'PINEAPPLE': 3, 'WATERMELON': 4}\n"
          ]
        }
      ]
    },
    {
      "cell_type": "code",
      "source": [
        "from collections import Counter as c \n",
        "c(x_train .labels)"
      ],
      "metadata": {
        "colab": {
          "base_uri": "https://localhost:8080/"
        },
        "id": "I-1Kbp7bCs35",
        "outputId": "b0801380-a6f1-49f4-ecc4-f4d051070fb9"
      },
      "execution_count": null,
      "outputs": [
        {
          "output_type": "execute_result",
          "data": {
            "text/plain": [
              "Counter({0: 995, 1: 1354, 2: 1019, 3: 275, 4: 475})"
            ]
          },
          "metadata": {},
          "execution_count": 6
        }
      ]
    },
    {
      "cell_type": "markdown",
      "source": [
        "Importing The Model Building Libraries"
      ],
      "metadata": {
        "id": "CF9u26PQEOnd"
      }
    },
    {
      "cell_type": "code",
      "source": [
        "from keras.preprocessing.image import ImageDataGenerator\n",
        "import numpy as np\n",
        "import tensorflow\n",
        "from tensorflow.keras.models import Sequential \n",
        "from tensorflow.keras import layers\n",
        "from tensorflow.keras.layers import Dense, Flatten\n",
        "from tensorflow.keras.layers import Conv2D, MaxPooling2D,Dropout\n",
        "from keras.preprocessing.image import ImageDataGenerator"
      ],
      "metadata": {
        "id": "LY_sVzAaETSp"
      },
      "execution_count": 7,
      "outputs": []
    },
    {
      "cell_type": "markdown",
      "source": [
        "Initializing The Model"
      ],
      "metadata": {
        "id": "SbAT32vcEd1m"
      }
    },
    {
      "cell_type": "code",
      "source": [
        "model=Sequential()"
      ],
      "metadata": {
        "id": "srtO2rQ5EV1u"
      },
      "execution_count": 8,
      "outputs": []
    },
    {
      "cell_type": "markdown",
      "source": [
        "Adding CNN Layers"
      ],
      "metadata": {
        "id": "j2Z3s2eKEjCa"
      }
    },
    {
      "cell_type": "code",
      "source": [
        "classifier = Sequential()\n",
        "classifier.add(Conv2D(32,(3, 3), input_shape=(64, 64, 3),activation='relu')) \n",
        "classifier.add(MaxPooling2D(pool_size=(2, 2)))\n",
        "classifier.add(Conv2D(32, (3, 3), activation='relu'))\n",
        "classifier.add(MaxPooling2D(pool_size=(2, 2)))\n",
        "classifier.add(Flatten())"
      ],
      "metadata": {
        "id": "XM21E5CTEgTi"
      },
      "execution_count": 10,
      "outputs": []
    },
    {
      "cell_type": "markdown",
      "source": [
        "Adding Dense Layers"
      ],
      "metadata": {
        "id": "DQPkuFQjEvpX"
      }
    },
    {
      "cell_type": "code",
      "source": [
        "classifier.add(Dense (units=128, activation='relu'))\n",
        "classifier.add(Dense (units=5, activation='softmax'))"
      ],
      "metadata": {
        "id": "cibeZkITEmCM"
      },
      "execution_count": 11,
      "outputs": []
    },
    {
      "cell_type": "code",
      "source": [
        "classifier.summary()"
      ],
      "metadata": {
        "colab": {
          "base_uri": "https://localhost:8080/"
        },
        "id": "BhdtIh8HEyM4",
        "outputId": "9528fae3-22bb-417a-f192-e62dec49a1f1"
      },
      "execution_count": 12,
      "outputs": [
        {
          "output_type": "stream",
          "name": "stdout",
          "text": [
            "Model: \"sequential_1\"\n",
            "_________________________________________________________________\n",
            " Layer (type)                Output Shape              Param #   \n",
            "=================================================================\n",
            " conv2d (Conv2D)             (None, 62, 62, 32)        896       \n",
            "                                                                 \n",
            " max_pooling2d (MaxPooling2D  (None, 31, 31, 32)       0         \n",
            " )                                                               \n",
            "                                                                 \n",
            " conv2d_1 (Conv2D)           (None, 29, 29, 32)        9248      \n",
            "                                                                 \n",
            " max_pooling2d_1 (MaxPooling  (None, 14, 14, 32)       0         \n",
            " 2D)                                                             \n",
            "                                                                 \n",
            " flatten (Flatten)           (None, 6272)              0         \n",
            "                                                                 \n",
            " dense (Dense)               (None, 128)               802944    \n",
            "                                                                 \n",
            " dense_1 (Dense)             (None, 5)                 645       \n",
            "                                                                 \n",
            "=================================================================\n",
            "Total params: 813,733\n",
            "Trainable params: 813,733\n",
            "Non-trainable params: 0\n",
            "_________________________________________________________________\n"
          ]
        }
      ]
    },
    {
      "cell_type": "markdown",
      "source": [
        "Configure The Learning Process"
      ],
      "metadata": {
        "id": "mXnJIVnKE8Lj"
      }
    },
    {
      "cell_type": "code",
      "source": [
        "classifier.compile(optimizer='adam', loss='sparse_categorical_crossentropy', \n",
        "                   metrics=['accuracy'])"
      ],
      "metadata": {
        "id": "5VtoYH2JE1-W"
      },
      "execution_count": 13,
      "outputs": []
    },
    {
      "cell_type": "markdown",
      "source": [
        "Train The Model"
      ],
      "metadata": {
        "id": "WGXWZ1QsFBKv"
      }
    },
    {
      "cell_type": "code",
      "source": [
        "classifier.fit_generator(\n",
        "    generator=x_train,steps_per_epoch = len(x_train), \n",
        "    epochs=20,validation_data=x_test,validation_steps = len(x_test))"
      ],
      "metadata": {
        "colab": {
          "base_uri": "https://localhost:8080/"
        },
        "id": "8d1mDJW1E-7D",
        "outputId": "0f65409b-bbbe-463b-cc12-e9080315097d"
      },
      "execution_count": 14,
      "outputs": [
        {
          "output_type": "stream",
          "name": "stderr",
          "text": [
            "/usr/local/lib/python3.7/dist-packages/ipykernel_launcher.py:3: UserWarning: `Model.fit_generator` is deprecated and will be removed in a future version. Please use `Model.fit`, which supports generators.\n",
            "  This is separate from the ipykernel package so we can avoid doing imports until\n"
          ]
        },
        {
          "output_type": "stream",
          "name": "stdout",
          "text": [
            "Epoch 1/20\n",
            "824/824 [==============================] - 871s 1s/step - loss: 0.6003 - accuracy: 0.7669 - val_loss: 0.4592 - val_accuracy: 0.8497\n",
            "Epoch 2/20\n",
            "824/824 [==============================] - 63s 76ms/step - loss: 0.4349 - accuracy: 0.8356 - val_loss: 0.3361 - val_accuracy: 0.8803\n",
            "Epoch 3/20\n",
            "824/824 [==============================] - 63s 76ms/step - loss: 0.3810 - accuracy: 0.8604 - val_loss: 0.4084 - val_accuracy: 0.8448\n",
            "Epoch 4/20\n",
            "824/824 [==============================] - 61s 74ms/step - loss: 0.3443 - accuracy: 0.8711 - val_loss: 0.3386 - val_accuracy: 0.8713\n",
            "Epoch 5/20\n",
            "824/824 [==============================] - 61s 74ms/step - loss: 0.3228 - accuracy: 0.8813 - val_loss: 0.2734 - val_accuracy: 0.8949\n",
            "Epoch 6/20\n",
            "824/824 [==============================] - 64s 77ms/step - loss: 0.2968 - accuracy: 0.8866 - val_loss: 0.2569 - val_accuracy: 0.9009\n",
            "Epoch 7/20\n",
            "824/824 [==============================] - 62s 75ms/step - loss: 0.3033 - accuracy: 0.8878 - val_loss: 0.2374 - val_accuracy: 0.9172\n",
            "Epoch 8/20\n",
            "824/824 [==============================] - 61s 74ms/step - loss: 0.2744 - accuracy: 0.8966 - val_loss: 0.2312 - val_accuracy: 0.9104\n",
            "Epoch 9/20\n",
            "824/824 [==============================] - 61s 74ms/step - loss: 0.2444 - accuracy: 0.9043 - val_loss: 0.2600 - val_accuracy: 0.8973\n",
            "Epoch 10/20\n",
            "824/824 [==============================] - 61s 74ms/step - loss: 0.2341 - accuracy: 0.9068 - val_loss: 0.2027 - val_accuracy: 0.9182\n",
            "Epoch 11/20\n",
            "824/824 [==============================] - 62s 76ms/step - loss: 0.2359 - accuracy: 0.9109 - val_loss: 0.1490 - val_accuracy: 0.9437\n",
            "Epoch 12/20\n",
            "824/824 [==============================] - 61s 74ms/step - loss: 0.2081 - accuracy: 0.9242 - val_loss: 0.3813 - val_accuracy: 0.8715\n",
            "Epoch 13/20\n",
            "824/824 [==============================] - 61s 74ms/step - loss: 0.1939 - accuracy: 0.9276 - val_loss: 0.1242 - val_accuracy: 0.9556\n",
            "Epoch 14/20\n",
            "824/824 [==============================] - 63s 77ms/step - loss: 0.1787 - accuracy: 0.9264 - val_loss: 0.1648 - val_accuracy: 0.9378\n",
            "Epoch 15/20\n",
            "824/824 [==============================] - 61s 74ms/step - loss: 0.1706 - accuracy: 0.9332 - val_loss: 0.1184 - val_accuracy: 0.9597\n",
            "Epoch 16/20\n",
            "824/824 [==============================] - 61s 74ms/step - loss: 0.1616 - accuracy: 0.9407 - val_loss: 0.0997 - val_accuracy: 0.9599\n",
            "Epoch 17/20\n",
            "824/824 [==============================] - 66s 80ms/step - loss: 0.1617 - accuracy: 0.9395 - val_loss: 0.2073 - val_accuracy: 0.9233\n",
            "Epoch 18/20\n",
            "824/824 [==============================] - 62s 76ms/step - loss: 0.1433 - accuracy: 0.9475 - val_loss: 0.0702 - val_accuracy: 0.9750\n",
            "Epoch 19/20\n",
            "824/824 [==============================] - 63s 76ms/step - loss: 0.1135 - accuracy: 0.9577 - val_loss: 0.0811 - val_accuracy: 0.9711\n",
            "Epoch 20/20\n",
            "824/824 [==============================] - 63s 76ms/step - loss: 0.1315 - accuracy: 0.9514 - val_loss: 0.0655 - val_accuracy: 0.9781\n"
          ]
        },
        {
          "output_type": "execute_result",
          "data": {
            "text/plain": [
              "<keras.callbacks.History at 0x7f7230b8e650>"
            ]
          },
          "metadata": {},
          "execution_count": 14
        }
      ]
    },
    {
      "cell_type": "markdown",
      "source": [
        "Save The Model"
      ],
      "metadata": {
        "id": "YnVLrwFJFKVZ"
      }
    },
    {
      "cell_type": "code",
      "source": [
        "classifier.save('nutrition.h5')"
      ],
      "metadata": {
        "id": "ENsEW2ydFDvy"
      },
      "execution_count": 15,
      "outputs": []
    },
    {
      "cell_type": "markdown",
      "source": [
        "Test The Model"
      ],
      "metadata": {
        "id": "igPcP_tlFOc9"
      }
    },
    {
      "cell_type": "code",
      "source": [
        "from tensorflow.keras.models import load_model\n",
        "from keras.preprocessing import image\n",
        "model = load_model(\"nutrition.h5\")\n",
        "from tensorflow.keras.preprocessing import image"
      ],
      "metadata": {
        "id": "7YhfU6bIFSQH"
      },
      "execution_count": 16,
      "outputs": []
    },
    {
      "cell_type": "code",
      "source": [
        "img =image.load_img(\n",
        "    r\"/content/drive/MyDrive/Project/Dataset/TRAIN_SET/WATERMELON/105_100.jpg\",\n",
        "    grayscale=False, target_size= (64,64))\n",
        "x = image.img_to_array(img)\n",
        "x = np.expand_dims(x,axis=0)\n",
        "pred =model.predict(x)\n",
        "pred"
      ],
      "metadata": {
        "colab": {
          "base_uri": "https://localhost:8080/"
        },
        "id": "WhkakJ3ZFaJw",
        "outputId": "020015bc-c786-4b8c-9e70-8d6e3e3122d2"
      },
      "execution_count": 26,
      "outputs": [
        {
          "output_type": "stream",
          "name": "stdout",
          "text": [
            "1/1 [==============================] - 0s 22ms/step\n"
          ]
        },
        {
          "output_type": "execute_result",
          "data": {
            "text/plain": [
              "array([[0., 0., 0., 0., 1.]], dtype=float32)"
            ]
          },
          "metadata": {},
          "execution_count": 26
        }
      ]
    },
    {
      "cell_type": "code",
      "source": [
        "labels=['APPLES', 'BANANA', 'ORANGE','PINEAPPLE','WATERMELON']\n",
        "labels[np.argmax(pred)]"
      ],
      "metadata": {
        "colab": {
          "base_uri": "https://localhost:8080/",
          "height": 35
        },
        "id": "XBwzKK4NFbZN",
        "outputId": "200a271b-bf25-414e-812d-8e9f8cb85548"
      },
      "execution_count": 27,
      "outputs": [
        {
          "output_type": "execute_result",
          "data": {
            "text/plain": [
              "'WATERMELON'"
            ],
            "application/vnd.google.colaboratory.intrinsic+json": {
              "type": "string"
            }
          },
          "metadata": {},
          "execution_count": 27
        }
      ]
    }
  ]
}