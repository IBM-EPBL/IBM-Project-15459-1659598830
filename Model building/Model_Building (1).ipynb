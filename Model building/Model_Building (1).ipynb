{
  "cells": [
    {
      "cell_type": "markdown",
      "metadata": {
        "id": "QXf4YbJSBan_"
      },
      "source": [
        "Import the ImageDataGenerator library"
      ]
    },
    {
      "cell_type": "code",
      "execution_count": 1,
      "metadata": {
        "id": "rs3ImqNaBR8F"
      },
      "outputs": [],
      "source": [
        "from keras.preprocessing.image import ImageDataGenerator"
      ]
    },
    {
      "cell_type": "markdown",
      "metadata": {
        "id": "HO6Qj6OJB4Aj"
      },
      "source": [
        "Configure ImageDataGenerator Class"
      ]
    },
    {
      "cell_type": "code",
      "execution_count": 2,
      "metadata": {
        "id": "jXMsh-e5Bsu8"
      },
      "outputs": [],
      "source": [
        "train_datagen = ImageDataGenerator(rescale=1./255,shear_range=0.2,zoom_range=0.2,\n",
        "                                   horizontal_flip=True)\n",
        "test_datagen=ImageDataGenerator(rescale=1./255)"
      ]
    },
    {
      "cell_type": "markdown",
      "metadata": {
        "id": "ZKscK_RbB_xR"
      },
      "source": [
        "Apply Image DataGenerator Functionality To Trainset And Testset"
      ]
    },
    {
      "cell_type": "code",
      "execution_count": 4,
      "metadata": {
        "colab": {
          "base_uri": "https://localhost:8080/"
        },
        "id": "75Tq2NKMB85V",
        "outputId": "dee4e6c2-1e88-4324-b87b-0afc265ccaf0"
      },
      "outputs": [
        {
          "output_type": "stream",
          "name": "stdout",
          "text": [
            "Found 3838 images belonging to 5 classes.\n",
            "Found 280 images belonging to 5 classes.\n"
          ]
        }
      ],
      "source": [
        "x_train = train_datagen.flow_from_directory(\n",
        "    r'/content/drive/MyDrive/Project/Dataset/TRAIN_SET',\n",
        "    target_size=(64, 64),batch_size=32,color_mode='rgb',class_mode='categorical')\n",
        "x_test = test_datagen.flow_from_directory(\n",
        "    r'/content/drive/MyDrive/Project/Dataset/TEST_SET',\n",
        "    target_size=(64, 64),batch_size=32,color_mode='rgb',class_mode='categorical')"
      ]
    },
    {
      "cell_type": "code",
      "execution_count": 5,
      "metadata": {
        "colab": {
          "base_uri": "https://localhost:8080/"
        },
        "id": "5RzH-J2dClII",
        "outputId": "d65d86a4-388b-4532-ec32-e136c0f61406"
      },
      "outputs": [
        {
          "output_type": "stream",
          "name": "stdout",
          "text": [
            "{'APPLES': 0, 'BANANA': 1, 'ORANGE': 2, 'PINEAPPLE': 3, 'WATERMELON': 4}\n"
          ]
        }
      ],
      "source": [
        "print(x_train.class_indices)"
      ]
    },
    {
      "cell_type": "code",
      "execution_count": 6,
      "metadata": {
        "colab": {
          "base_uri": "https://localhost:8080/"
        },
        "id": "qphu3_9aCptV",
        "outputId": "512c2dad-7f55-4829-c8a9-b6c3a7577d10"
      },
      "outputs": [
        {
          "output_type": "stream",
          "name": "stdout",
          "text": [
            "{'APPLE': 0, 'BANANA': 1, 'ORANGE': 2, 'PINEAPPLE': 3, 'WATERMELON': 4}\n"
          ]
        }
      ],
      "source": [
        "print(x_test.class_indices)"
      ]
    },
    {
      "cell_type": "code",
      "execution_count": 9,
      "metadata": {
        "colab": {
          "base_uri": "https://localhost:8080/"
        },
        "id": "I-1Kbp7bCs35",
        "outputId": "b26a21db-2157-4062-cc4f-7264d75ba539"
      },
      "outputs": [
        {
          "output_type": "execute_result",
          "data": {
            "text/plain": [
              "Counter({0: 913, 1: 1306, 2: 964, 3: 240, 4: 415})"
            ]
          },
          "metadata": {},
          "execution_count": 9
        }
      ],
      "source": [
        "from collections import Counter as c \n",
        "c(x_train .labels)"
      ]
    },
    {
      "cell_type": "code",
      "source": [
        "from collections import Counter as c \n",
        "c(x_test .labels)"
      ],
      "metadata": {
        "colab": {
          "base_uri": "https://localhost:8080/"
        },
        "id": "AOUcBH0_c3BE",
        "outputId": "fc800473-5fce-494a-b0b8-8f353271ad51"
      },
      "execution_count": 10,
      "outputs": [
        {
          "output_type": "execute_result",
          "data": {
            "text/plain": [
              "Counter({0: 82, 1: 48, 2: 55, 3: 35, 4: 60})"
            ]
          },
          "metadata": {},
          "execution_count": 10
        }
      ]
    },
    {
      "cell_type": "markdown",
      "metadata": {
        "id": "CF9u26PQEOnd"
      },
      "source": [
        "Importing The Model Building Libraries"
      ]
    },
    {
      "cell_type": "code",
      "execution_count": 11,
      "metadata": {
        "id": "LY_sVzAaETSp"
      },
      "outputs": [],
      "source": [
        "from keras.preprocessing.image import ImageDataGenerator\n",
        "import numpy as np\n",
        "import tensorflow\n",
        "from tensorflow.keras.models import Sequential \n",
        "from tensorflow.keras import layers\n",
        "from tensorflow.keras.layers import Dense, Flatten\n",
        "from tensorflow.keras.layers import Conv2D, MaxPooling2D,Dropout\n",
        "from keras.preprocessing.image import ImageDataGenerator"
      ]
    },
    {
      "cell_type": "markdown",
      "metadata": {
        "id": "SbAT32vcEd1m"
      },
      "source": [
        "Initializing The Model"
      ]
    },
    {
      "cell_type": "code",
      "execution_count": 12,
      "metadata": {
        "id": "srtO2rQ5EV1u"
      },
      "outputs": [],
      "source": [
        "model=Sequential()"
      ]
    },
    {
      "cell_type": "markdown",
      "metadata": {
        "id": "j2Z3s2eKEjCa"
      },
      "source": [
        "Adding CNN Layers"
      ]
    },
    {
      "cell_type": "code",
      "execution_count": 13,
      "metadata": {
        "id": "XM21E5CTEgTi"
      },
      "outputs": [],
      "source": [
        "classifier = Sequential()\n",
        "classifier.add(Conv2D(32,(3, 3), input_shape=(64, 64, 3),activation='relu')) \n",
        "classifier.add(MaxPooling2D(pool_size=(2, 2)))\n",
        "classifier.add(Conv2D(32, (3, 3), activation='relu'))\n",
        "classifier.add(MaxPooling2D(pool_size=(2, 2)))\n",
        "classifier.add(Flatten())"
      ]
    },
    {
      "cell_type": "markdown",
      "metadata": {
        "id": "DQPkuFQjEvpX"
      },
      "source": [
        "Adding Dense Layers"
      ]
    },
    {
      "cell_type": "code",
      "execution_count": 15,
      "metadata": {
        "id": "cibeZkITEmCM"
      },
      "outputs": [],
      "source": [
        "classifier.add(Dense (units=128, activation='relu'))\n",
        "classifier.add(Dense (units=5, activation='softmax'))"
      ]
    },
    {
      "cell_type": "code",
      "execution_count": 16,
      "metadata": {
        "colab": {
          "base_uri": "https://localhost:8080/"
        },
        "id": "BhdtIh8HEyM4",
        "outputId": "8a65cf46-3cf1-44a3-b94d-85180728dcf2"
      },
      "outputs": [
        {
          "output_type": "stream",
          "name": "stdout",
          "text": [
            "Model: \"sequential_1\"\n",
            "_________________________________________________________________\n",
            " Layer (type)                Output Shape              Param #   \n",
            "=================================================================\n",
            " conv2d (Conv2D)             (None, 62, 62, 32)        896       \n",
            "                                                                 \n",
            " max_pooling2d (MaxPooling2D  (None, 31, 31, 32)       0         \n",
            " )                                                               \n",
            "                                                                 \n",
            " conv2d_1 (Conv2D)           (None, 29, 29, 32)        9248      \n",
            "                                                                 \n",
            " max_pooling2d_1 (MaxPooling  (None, 14, 14, 32)       0         \n",
            " 2D)                                                             \n",
            "                                                                 \n",
            " flatten (Flatten)           (None, 6272)              0         \n",
            "                                                                 \n",
            " dense (Dense)               (None, 128)               802944    \n",
            "                                                                 \n",
            " dense_1 (Dense)             (None, 5)                 645       \n",
            "                                                                 \n",
            "=================================================================\n",
            "Total params: 813,733\n",
            "Trainable params: 813,733\n",
            "Non-trainable params: 0\n",
            "_________________________________________________________________\n"
          ]
        }
      ],
      "source": [
        "classifier.summary()"
      ]
    },
    {
      "cell_type": "markdown",
      "metadata": {
        "id": "mXnJIVnKE8Lj"
      },
      "source": [
        "Configure The Learning Process"
      ]
    },
    {
      "cell_type": "code",
      "execution_count": 17,
      "metadata": {
        "id": "5VtoYH2JE1-W"
      },
      "outputs": [],
      "source": [
        "classifier.compile(optimizer='adam', loss='categorical_crossentropy', \n",
        "                   metrics=['accuracy'])"
      ]
    },
    {
      "cell_type": "markdown",
      "metadata": {
        "id": "WGXWZ1QsFBKv"
      },
      "source": [
        "Train The Model"
      ]
    },
    {
      "cell_type": "code",
      "execution_count": 18,
      "metadata": {
        "colab": {
          "base_uri": "https://localhost:8080/"
        },
        "id": "8d1mDJW1E-7D",
        "outputId": "d7361291-4599-47d0-980f-54742e2e9732"
      },
      "outputs": [
        {
          "output_type": "stream",
          "name": "stderr",
          "text": [
            "/usr/local/lib/python3.7/dist-packages/ipykernel_launcher.py:3: UserWarning: `Model.fit_generator` is deprecated and will be removed in a future version. Please use `Model.fit`, which supports generators.\n",
            "  This is separate from the ipykernel package so we can avoid doing imports until\n"
          ]
        },
        {
          "output_type": "stream",
          "name": "stdout",
          "text": [
            "Epoch 1/20\n",
            "120/120 [==============================] - 1251s 10s/step - loss: 0.8456 - accuracy: 0.6647 - val_loss: 0.3243 - val_accuracy: 0.8893\n",
            "Epoch 2/20\n",
            "120/120 [==============================] - 30s 249ms/step - loss: 0.5028 - accuracy: 0.8189 - val_loss: 0.2528 - val_accuracy: 0.9250\n",
            "Epoch 3/20\n",
            "120/120 [==============================] - 32s 262ms/step - loss: 0.4244 - accuracy: 0.8424 - val_loss: 0.2740 - val_accuracy: 0.8929\n",
            "Epoch 4/20\n",
            "120/120 [==============================] - 32s 262ms/step - loss: 0.3783 - accuracy: 0.8603 - val_loss: 0.2347 - val_accuracy: 0.9214\n",
            "Epoch 5/20\n",
            "120/120 [==============================] - 30s 246ms/step - loss: 0.3574 - accuracy: 0.8650 - val_loss: 0.3277 - val_accuracy: 0.8679\n",
            "Epoch 6/20\n",
            "120/120 [==============================] - 30s 248ms/step - loss: 0.3395 - accuracy: 0.8697 - val_loss: 0.2300 - val_accuracy: 0.9286\n",
            "Epoch 7/20\n",
            "120/120 [==============================] - 31s 259ms/step - loss: 0.3226 - accuracy: 0.8747 - val_loss: 0.2109 - val_accuracy: 0.9179\n",
            "Epoch 8/20\n",
            "120/120 [==============================] - 31s 261ms/step - loss: 0.2843 - accuracy: 0.8958 - val_loss: 0.2283 - val_accuracy: 0.9107\n",
            "Epoch 9/20\n",
            "120/120 [==============================] - 32s 265ms/step - loss: 0.2841 - accuracy: 0.8947 - val_loss: 0.2750 - val_accuracy: 0.9107\n",
            "Epoch 10/20\n",
            "120/120 [==============================] - 29s 243ms/step - loss: 0.2765 - accuracy: 0.8908 - val_loss: 0.2314 - val_accuracy: 0.9179\n",
            "Epoch 11/20\n",
            "120/120 [==============================] - 30s 246ms/step - loss: 0.2471 - accuracy: 0.9065 - val_loss: 0.2008 - val_accuracy: 0.9143\n",
            "Epoch 12/20\n",
            "120/120 [==============================] - 32s 262ms/step - loss: 0.2460 - accuracy: 0.9054 - val_loss: 0.2316 - val_accuracy: 0.9107\n",
            "Epoch 13/20\n",
            "120/120 [==============================] - 31s 259ms/step - loss: 0.2415 - accuracy: 0.9075 - val_loss: 0.2639 - val_accuracy: 0.9000\n",
            "Epoch 14/20\n",
            "120/120 [==============================] - 29s 244ms/step - loss: 0.2496 - accuracy: 0.9036 - val_loss: 0.2365 - val_accuracy: 0.9000\n",
            "Epoch 15/20\n",
            "120/120 [==============================] - 32s 264ms/step - loss: 0.2184 - accuracy: 0.9140 - val_loss: 0.2326 - val_accuracy: 0.9250\n",
            "Epoch 16/20\n",
            "120/120 [==============================] - 32s 264ms/step - loss: 0.2170 - accuracy: 0.9171 - val_loss: 0.2472 - val_accuracy: 0.9143\n",
            "Epoch 17/20\n",
            "120/120 [==============================] - 30s 245ms/step - loss: 0.2262 - accuracy: 0.9085 - val_loss: 0.2401 - val_accuracy: 0.9321\n",
            "Epoch 18/20\n",
            "120/120 [==============================] - 32s 266ms/step - loss: 0.1966 - accuracy: 0.9260 - val_loss: 0.2545 - val_accuracy: 0.9179\n",
            "Epoch 19/20\n",
            "120/120 [==============================] - 32s 265ms/step - loss: 0.1762 - accuracy: 0.9315 - val_loss: 0.2833 - val_accuracy: 0.9107\n",
            "Epoch 20/20\n",
            "120/120 [==============================] - 30s 246ms/step - loss: 0.1792 - accuracy: 0.9312 - val_loss: 0.1951 - val_accuracy: 0.9286\n"
          ]
        },
        {
          "output_type": "execute_result",
          "data": {
            "text/plain": [
              "<keras.callbacks.History at 0x7f6e00cf07d0>"
            ]
          },
          "metadata": {},
          "execution_count": 18
        }
      ],
      "source": [
        "classifier.fit_generator(\n",
        "    generator=x_train,steps_per_epoch = len(x_train), \n",
        "    epochs=20,validation_data=x_test,validation_steps = len(x_test))"
      ]
    },
    {
      "cell_type": "markdown",
      "metadata": {
        "id": "YnVLrwFJFKVZ"
      },
      "source": [
        "Save The Model"
      ]
    },
    {
      "cell_type": "code",
      "execution_count": 21,
      "metadata": {
        "id": "ENsEW2ydFDvy"
      },
      "outputs": [],
      "source": [
        "classifier.save('nutrition.h5')"
      ]
    },
    {
      "cell_type": "markdown",
      "metadata": {
        "id": "igPcP_tlFOc9"
      },
      "source": [
        "Test The Model"
      ]
    },
    {
      "cell_type": "code",
      "execution_count": 32,
      "metadata": {
        "id": "7YhfU6bIFSQH"
      },
      "outputs": [],
      "source": [
        "from tensorflow.keras.models import load_model\n",
        "from tensorflow.keras.preprocessing import image\n",
        "import numpy as np\n",
        "import matplotlib.pyplot as plt\n",
        "model = load_model(\"nutrition.h5\")"
      ]
    },
    {
      "cell_type": "code",
      "source": [
        "img = image.load_img('/content/drive/MyDrive/Project/Dataset/TEST_SET/ORANGE/n07749192_122.jpg',target_size=(64,64)) \n",
        "x = image.img_to_array(img) \n",
        "x = np.expand_dims(x,axis=0) \n",
        "pred = np.argmax(model.predict(x)) \n",
        "op = ['APPLE', 'BANANA', 'ORANGE', 'PINAPPLE', 'WATERMELON'] \n",
        "op[pred]"
      ],
      "metadata": {
        "colab": {
          "base_uri": "https://localhost:8080/",
          "height": 52
        },
        "id": "b4zaNorEpTWf",
        "outputId": "b91ce1f0-cbd7-45a7-90ef-debcc63de924"
      },
      "execution_count": 33,
      "outputs": [
        {
          "output_type": "stream",
          "name": "stdout",
          "text": [
            "1/1 [==============================] - 0s 152ms/step\n"
          ]
        },
        {
          "output_type": "execute_result",
          "data": {
            "text/plain": [
              "'ORANGE'"
            ],
            "application/vnd.google.colaboratory.intrinsic+json": {
              "type": "string"
            }
          },
          "metadata": {},
          "execution_count": 33
        }
      ]
    },
    {
      "cell_type": "code",
      "source": [
        "img"
      ],
      "metadata": {
        "colab": {
          "base_uri": "https://localhost:8080/",
          "height": 81
        },
        "id": "oMY5LC3gps7A",
        "outputId": "d574a6a0-0659-404e-ddcf-dacfb4ac1115"
      },
      "execution_count": 34,
      "outputs": [
        {
          "output_type": "execute_result",
          "data": {
            "text/plain": [
              "<PIL.Image.Image image mode=RGB size=64x64 at 0x7F6DFF339950>"
            ],
            "image/png": "[encoded data removed]"
          },
          "metadata": {},
          "execution_count": 34
        }
      ]
    },
    {
      "cell_type": "code",
      "execution_count": 35,
      "metadata": {
        "id": "WhkakJ3ZFaJw"
      },
      "outputs": [],
      "source": [
        "classes=['APPLE', 'BANANA', 'ORANGE', 'PINAPPLE', 'WATERMELON'] \n",
        "def testing(img):\n",
        "  img=image.load_img(img,target_size=(64,64))\n",
        "  x=image.img_to_array(img)\n",
        "  x=np.expand_dims(x,axis=0)\n",
        "  pred=np.argmax(model.predict(x))\n",
        "  return print(\"Predicted class as:\",classes[pred])\n",
        "\n",
        "def img_show(img):\n",
        "  img1=image.load_img(img,target_size=(64,64))\n",
        "  plt.imshow(img1)"
      ]
    },
    {
      "cell_type": "code",
      "execution_count": 36,
      "metadata": {
        "colab": {
          "base_uri": "https://localhost:8080/",
          "height": 303
        },
        "id": "XBwzKK4NFbZN",
        "outputId": "cf51eb7c-c0be-4b1e-cf0a-df07d68156fb"
      },
      "outputs": [
        {
          "output_type": "stream",
          "name": "stdout",
          "text": [
            "1/1 [==============================] - 0s 22ms/step\n",
            "Predicted class as: PINAPPLE\n"
          ]
        },
        {
          "output_type": "display_data",
          "data": {
            "text/plain": [
              "<Figure size 432x288 with 1 Axes>"
            ],
            "image/png": "[encoded data removed]"
          },
          "metadata": {
            "needs_background": "light"
          }
        }
      ],
      "source": [
        "#test1\n",
        "img_show('/content/drive/MyDrive/Project/Dataset/TEST_SET/PINEAPPLE/2_100.jpg')\n",
        "testing('/content/drive/MyDrive/Project/Dataset/TEST_SET/PINEAPPLE/2_100.jpg')"
      ]
    },
    {
      "cell_type": "code",
      "source": [
        "#test2\n",
        "img_show('/content/drive/MyDrive/Project/Dataset/TEST_SET/BANANA/0SYXUU89Y8VZ.jpg')\n",
        "testing('/content/drive/MyDrive/Project/Dataset/TEST_SET/BANANA/0SYXUU89Y8VZ.jpg')"
      ],
      "metadata": {
        "colab": {
          "base_uri": "https://localhost:8080/",
          "height": 303
        },
        "id": "87mY0MMqqKyS",
        "outputId": "999f7561-0d28-40b9-bbd8-02eaef95aa32"
      },
      "execution_count": 37,
      "outputs": [
        {
          "output_type": "stream",
          "name": "stdout",
          "text": [
            "1/1 [==============================] - 0s 21ms/step\n",
            "Predicted class as: BANANA\n"
          ]
        },
        {
          "output_type": "display_data",
          "data": {
            "text/plain": [
              "<Figure size 432x288 with 1 Axes>"
            ],
            "image/png": "[encoded data removed]"
          },
          "metadata": {
            "needs_background": "light"
          }
        }
      ]
    }
  ],
  "metadata": {
    "colab": {
      "collapsed_sections": [],
      "provenance": []
    },
    "kernelspec": {
      "display_name": "Python 3",
      "name": "python3"
    },
    "language_info": {
      "name": "python"
    }
  },
  "nbformat": 4,
  "nbformat_minor": 0
}